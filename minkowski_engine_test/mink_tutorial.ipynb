{
 "cells": [
  {
   "cell_type": "code",
   "execution_count": null,
   "id": "initial_id",
   "metadata": {
    "collapsed": true
   },
   "outputs": [],
   "source": [
    "import os\n",
    "import argparse\n",
    "import numpy as np\n",
    "from urllib.request import urlretrieve\n",
    "import open3d as o3d\n",
    "import torch\n",
    "import MinkowskiEngine as ME\n",
    "from mink_unet import MinkUNet34C"
   ]
  },
  {
   "cell_type": "code",
   "outputs": [],
   "source": [
    "# Check if the weights and file exist and download\n",
    "if not os.path.isfile('weights.pth'):\n",
    "    print('Downloading weights...')\n",
    "    urlretrieve(\"https://bit.ly/2O4dZrz\", \"weights.pth\")\n",
    "if not os.path.isfile(\"1.ply\"):\n",
    "    print('Downloading an example pointcloud...')\n",
    "    urlretrieve(\"https://bit.ly/3c2iLhg\", \"1.ply\")"
   ],
   "metadata": {
    "collapsed": false
   },
   "id": "60a8d9529977efe2",
   "execution_count": null
  },
  {
   "cell_type": "code",
   "outputs": [],
   "source": [
    "CLASS_LABELS = ('wall', 'floor', 'cabinet', 'bed', 'chair', 'sofa', 'table',\n",
    "                'door', 'window', 'bookshelf', 'picture', 'counter', 'desk',\n",
    "                'curtain', 'refrigerator', 'shower curtain', 'toilet', 'sink',\n",
    "                'bathtub', 'otherfurniture')"
   ],
   "metadata": {
    "collapsed": false
   },
   "id": "3b69e2586864d8b6",
   "execution_count": null
  },
  {
   "cell_type": "code",
   "outputs": [],
   "source": [
    "VALID_CLASS_IDS = [\n",
    "    1, 2, 3, 4, 5, 6, 7, 8, 9, 10, 11, 12, 14, 16, 24, 28, 33, 34, 36, 39\n",
    "]"
   ],
   "metadata": {
    "collapsed": false
   },
   "id": "93d13ea273e9b2bb",
   "execution_count": null
  },
  {
   "cell_type": "code",
   "outputs": [],
   "source": [
    "SCANNET_COLOR_MAP = {\n",
    "    0: (0., 0., 0.),\n",
    "    1: (174., 199., 232.),\n",
    "    2: (152., 223., 138.),\n",
    "    3: (31., 119., 180.),\n",
    "    4: (255., 187., 120.),\n",
    "    5: (188., 189., 34.),\n",
    "    6: (140., 86., 75.),\n",
    "    7: (255., 152., 150.),\n",
    "    8: (214., 39., 40.),\n",
    "    9: (197., 176., 213.),\n",
    "    10: (148., 103., 189.),\n",
    "    11: (196., 156., 148.),\n",
    "    12: (23., 190., 207.),\n",
    "    14: (247., 182., 210.),\n",
    "    15: (66., 188., 102.),\n",
    "    16: (219., 219., 141.),\n",
    "    17: (140., 57., 197.),\n",
    "    18: (202., 185., 52.),\n",
    "    19: (51., 176., 203.),\n",
    "    20: (200., 54., 131.),\n",
    "    21: (92., 193., 61.),\n",
    "    22: (78., 71., 183.),\n",
    "    23: (172., 114., 82.),\n",
    "    24: (255., 127., 14.),\n",
    "    25: (91., 163., 138.),\n",
    "    26: (153., 98., 156.),\n",
    "    27: (140., 153., 101.),\n",
    "    28: (158., 218., 229.),\n",
    "    29: (100., 125., 154.),\n",
    "    30: (178., 127., 135.),\n",
    "    32: (146., 111., 194.),\n",
    "    33: (44., 160., 44.),\n",
    "    34: (112., 128., 144.),\n",
    "    35: (96., 207., 209.),\n",
    "    36: (227., 119., 194.),\n",
    "    37: (213., 92., 176.),\n",
    "    38: (94., 106., 211.),\n",
    "    39: (82., 84., 163.),\n",
    "    40: (100., 85., 144.),\n",
    "}"
   ],
   "metadata": {
    "collapsed": false
   },
   "id": "2c03d3df63fa47a1",
   "execution_count": null
  },
  {
   "cell_type": "code",
   "outputs": [],
   "source": [
    "def load_file(file_name):\n",
    "    pcd = o3d.io.read_point_cloud(file_name)\n",
    "    coords = np.array(pcd.points)\n",
    "    colors = np.array(pcd.colors)\n",
    "    return coords, colors, pcd"
   ],
   "metadata": {
    "collapsed": false
   },
   "id": "264f9dedd8a372fa",
   "execution_count": null
  },
  {
   "cell_type": "code",
   "outputs": [],
   "source": [
    "def normalize_color(color: torch.Tensor, is_color_in_range_0_255: bool = False) -> torch.Tensor:\n",
    "    r\"\"\"\n",
    "    Convert color in range [0, 1] to [-0.5, 0.5]. If the color is in range [0,\n",
    "    255], use the argument `is_color_in_range_0_255=True`.\n",
    "\n",
    "    `color` (torch.Tensor): Nx3 color feature matrix\n",
    "    `is_color_in_range_0_255` (bool): If the color is in range [0, 255] not [0, 1], normalize the color to [0, 1].\n",
    "    \"\"\"\n",
    "    if is_color_in_range_0_255:\n",
    "        color /= 255\n",
    "    color -= 0.5\n",
    "    return color.float()"
   ],
   "metadata": {
    "collapsed": false
   },
   "id": "c2c9fd2305a05726",
   "execution_count": null
  },
  {
   "cell_type": "code",
   "outputs": [
    {
     "name": "stdout",
     "output_type": "stream",
     "text": [
      "Using cuda\n"
     ]
    }
   ],
   "source": [
    "# args\n",
    "parser = argparse.ArgumentParser()\n",
    "parser.add_argument('--file_name', type=str, default='1.ply')\n",
    "parser.add_argument('--weights', type=str, default='weights.pth')\n",
    "parser.add_argument('--use_cpu', action='store_true')\n",
    "config, unknown = parser.parse_known_args()\n",
    "device = torch.device('cuda' if (\n",
    "    torch.cuda.is_available() and not config.use_cpu) else 'cpu')\n",
    "print(f\"Using {device}\")"
   ],
   "metadata": {
    "collapsed": false,
    "ExecuteTime": {
     "end_time": "2024-03-02T14:24:28.219090400Z",
     "start_time": "2024-03-02T14:24:28.217999777Z"
    }
   },
   "id": "9f835d217114c24a",
   "execution_count": 41
  },
  {
   "cell_type": "code",
   "outputs": [
    {
     "data": {
      "text/plain": "MinkUNet34C(\n  (conv0p1s1): MinkowskiConvolution(in=3, out=32, kernel_size=[5, 5, 5], stride=[1, 1, 1], dilation=[1, 1, 1])\n  (bn0): MinkowskiBatchNorm(32, eps=1e-05, momentum=0.1, affine=True, track_running_stats=True)\n  (conv1p1s2): MinkowskiConvolution(in=32, out=32, kernel_size=[2, 2, 2], stride=[2, 2, 2], dilation=[1, 1, 1])\n  (bn1): MinkowskiBatchNorm(32, eps=1e-05, momentum=0.1, affine=True, track_running_stats=True)\n  (block1): Sequential(\n    (0): BasicBlock(\n      (conv1): MinkowskiConvolution(in=32, out=32, kernel_size=[3, 3, 3], stride=[1, 1, 1], dilation=[1, 1, 1])\n      (norm1): MinkowskiBatchNorm(32, eps=1e-05, momentum=0.1, affine=True, track_running_stats=True)\n      (conv2): MinkowskiConvolution(in=32, out=32, kernel_size=[3, 3, 3], stride=[1, 1, 1], dilation=[1, 1, 1])\n      (norm2): MinkowskiBatchNorm(32, eps=1e-05, momentum=0.1, affine=True, track_running_stats=True)\n      (relu): MinkowskiReLU()\n    )\n    (1): BasicBlock(\n      (conv1): MinkowskiConvolution(in=32, out=32, kernel_size=[3, 3, 3], stride=[1, 1, 1], dilation=[1, 1, 1])\n      (norm1): MinkowskiBatchNorm(32, eps=1e-05, momentum=0.1, affine=True, track_running_stats=True)\n      (conv2): MinkowskiConvolution(in=32, out=32, kernel_size=[3, 3, 3], stride=[1, 1, 1], dilation=[1, 1, 1])\n      (norm2): MinkowskiBatchNorm(32, eps=1e-05, momentum=0.1, affine=True, track_running_stats=True)\n      (relu): MinkowskiReLU()\n    )\n  )\n  (conv2p2s2): MinkowskiConvolution(in=32, out=32, kernel_size=[2, 2, 2], stride=[2, 2, 2], dilation=[1, 1, 1])\n  (bn2): MinkowskiBatchNorm(32, eps=1e-05, momentum=0.1, affine=True, track_running_stats=True)\n  (block2): Sequential(\n    (0): BasicBlock(\n      (conv1): MinkowskiConvolution(in=32, out=64, kernel_size=[3, 3, 3], stride=[1, 1, 1], dilation=[1, 1, 1])\n      (norm1): MinkowskiBatchNorm(64, eps=1e-05, momentum=0.1, affine=True, track_running_stats=True)\n      (conv2): MinkowskiConvolution(in=64, out=64, kernel_size=[3, 3, 3], stride=[1, 1, 1], dilation=[1, 1, 1])\n      (norm2): MinkowskiBatchNorm(64, eps=1e-05, momentum=0.1, affine=True, track_running_stats=True)\n      (relu): MinkowskiReLU()\n      (downsample): Sequential(\n        (0): MinkowskiConvolution(in=32, out=64, kernel_size=[1, 1, 1], stride=[1, 1, 1], dilation=[1, 1, 1])\n        (1): MinkowskiBatchNorm(64, eps=1e-05, momentum=0.1, affine=True, track_running_stats=True)\n      )\n    )\n    (1): BasicBlock(\n      (conv1): MinkowskiConvolution(in=64, out=64, kernel_size=[3, 3, 3], stride=[1, 1, 1], dilation=[1, 1, 1])\n      (norm1): MinkowskiBatchNorm(64, eps=1e-05, momentum=0.1, affine=True, track_running_stats=True)\n      (conv2): MinkowskiConvolution(in=64, out=64, kernel_size=[3, 3, 3], stride=[1, 1, 1], dilation=[1, 1, 1])\n      (norm2): MinkowskiBatchNorm(64, eps=1e-05, momentum=0.1, affine=True, track_running_stats=True)\n      (relu): MinkowskiReLU()\n    )\n    (2): BasicBlock(\n      (conv1): MinkowskiConvolution(in=64, out=64, kernel_size=[3, 3, 3], stride=[1, 1, 1], dilation=[1, 1, 1])\n      (norm1): MinkowskiBatchNorm(64, eps=1e-05, momentum=0.1, affine=True, track_running_stats=True)\n      (conv2): MinkowskiConvolution(in=64, out=64, kernel_size=[3, 3, 3], stride=[1, 1, 1], dilation=[1, 1, 1])\n      (norm2): MinkowskiBatchNorm(64, eps=1e-05, momentum=0.1, affine=True, track_running_stats=True)\n      (relu): MinkowskiReLU()\n    )\n  )\n  (conv3p4s2): MinkowskiConvolution(in=64, out=64, kernel_size=[2, 2, 2], stride=[2, 2, 2], dilation=[1, 1, 1])\n  (bn3): MinkowskiBatchNorm(64, eps=1e-05, momentum=0.1, affine=True, track_running_stats=True)\n  (block3): Sequential(\n    (0): BasicBlock(\n      (conv1): MinkowskiConvolution(in=64, out=128, kernel_size=[3, 3, 3], stride=[1, 1, 1], dilation=[1, 1, 1])\n      (norm1): MinkowskiBatchNorm(128, eps=1e-05, momentum=0.1, affine=True, track_running_stats=True)\n      (conv2): MinkowskiConvolution(in=128, out=128, kernel_size=[3, 3, 3], stride=[1, 1, 1], dilation=[1, 1, 1])\n      (norm2): MinkowskiBatchNorm(128, eps=1e-05, momentum=0.1, affine=True, track_running_stats=True)\n      (relu): MinkowskiReLU()\n      (downsample): Sequential(\n        (0): MinkowskiConvolution(in=64, out=128, kernel_size=[1, 1, 1], stride=[1, 1, 1], dilation=[1, 1, 1])\n        (1): MinkowskiBatchNorm(128, eps=1e-05, momentum=0.1, affine=True, track_running_stats=True)\n      )\n    )\n    (1): BasicBlock(\n      (conv1): MinkowskiConvolution(in=128, out=128, kernel_size=[3, 3, 3], stride=[1, 1, 1], dilation=[1, 1, 1])\n      (norm1): MinkowskiBatchNorm(128, eps=1e-05, momentum=0.1, affine=True, track_running_stats=True)\n      (conv2): MinkowskiConvolution(in=128, out=128, kernel_size=[3, 3, 3], stride=[1, 1, 1], dilation=[1, 1, 1])\n      (norm2): MinkowskiBatchNorm(128, eps=1e-05, momentum=0.1, affine=True, track_running_stats=True)\n      (relu): MinkowskiReLU()\n    )\n    (2): BasicBlock(\n      (conv1): MinkowskiConvolution(in=128, out=128, kernel_size=[3, 3, 3], stride=[1, 1, 1], dilation=[1, 1, 1])\n      (norm1): MinkowskiBatchNorm(128, eps=1e-05, momentum=0.1, affine=True, track_running_stats=True)\n      (conv2): MinkowskiConvolution(in=128, out=128, kernel_size=[3, 3, 3], stride=[1, 1, 1], dilation=[1, 1, 1])\n      (norm2): MinkowskiBatchNorm(128, eps=1e-05, momentum=0.1, affine=True, track_running_stats=True)\n      (relu): MinkowskiReLU()\n    )\n    (3): BasicBlock(\n      (conv1): MinkowskiConvolution(in=128, out=128, kernel_size=[3, 3, 3], stride=[1, 1, 1], dilation=[1, 1, 1])\n      (norm1): MinkowskiBatchNorm(128, eps=1e-05, momentum=0.1, affine=True, track_running_stats=True)\n      (conv2): MinkowskiConvolution(in=128, out=128, kernel_size=[3, 3, 3], stride=[1, 1, 1], dilation=[1, 1, 1])\n      (norm2): MinkowskiBatchNorm(128, eps=1e-05, momentum=0.1, affine=True, track_running_stats=True)\n      (relu): MinkowskiReLU()\n    )\n  )\n  (conv4p8s2): MinkowskiConvolution(in=128, out=128, kernel_size=[2, 2, 2], stride=[2, 2, 2], dilation=[1, 1, 1])\n  (bn4): MinkowskiBatchNorm(128, eps=1e-05, momentum=0.1, affine=True, track_running_stats=True)\n  (block4): Sequential(\n    (0): BasicBlock(\n      (conv1): MinkowskiConvolution(in=128, out=256, kernel_size=[3, 3, 3], stride=[1, 1, 1], dilation=[1, 1, 1])\n      (norm1): MinkowskiBatchNorm(256, eps=1e-05, momentum=0.1, affine=True, track_running_stats=True)\n      (conv2): MinkowskiConvolution(in=256, out=256, kernel_size=[3, 3, 3], stride=[1, 1, 1], dilation=[1, 1, 1])\n      (norm2): MinkowskiBatchNorm(256, eps=1e-05, momentum=0.1, affine=True, track_running_stats=True)\n      (relu): MinkowskiReLU()\n      (downsample): Sequential(\n        (0): MinkowskiConvolution(in=128, out=256, kernel_size=[1, 1, 1], stride=[1, 1, 1], dilation=[1, 1, 1])\n        (1): MinkowskiBatchNorm(256, eps=1e-05, momentum=0.1, affine=True, track_running_stats=True)\n      )\n    )\n    (1): BasicBlock(\n      (conv1): MinkowskiConvolution(in=256, out=256, kernel_size=[3, 3, 3], stride=[1, 1, 1], dilation=[1, 1, 1])\n      (norm1): MinkowskiBatchNorm(256, eps=1e-05, momentum=0.1, affine=True, track_running_stats=True)\n      (conv2): MinkowskiConvolution(in=256, out=256, kernel_size=[3, 3, 3], stride=[1, 1, 1], dilation=[1, 1, 1])\n      (norm2): MinkowskiBatchNorm(256, eps=1e-05, momentum=0.1, affine=True, track_running_stats=True)\n      (relu): MinkowskiReLU()\n    )\n    (2): BasicBlock(\n      (conv1): MinkowskiConvolution(in=256, out=256, kernel_size=[3, 3, 3], stride=[1, 1, 1], dilation=[1, 1, 1])\n      (norm1): MinkowskiBatchNorm(256, eps=1e-05, momentum=0.1, affine=True, track_running_stats=True)\n      (conv2): MinkowskiConvolution(in=256, out=256, kernel_size=[3, 3, 3], stride=[1, 1, 1], dilation=[1, 1, 1])\n      (norm2): MinkowskiBatchNorm(256, eps=1e-05, momentum=0.1, affine=True, track_running_stats=True)\n      (relu): MinkowskiReLU()\n    )\n    (3): BasicBlock(\n      (conv1): MinkowskiConvolution(in=256, out=256, kernel_size=[3, 3, 3], stride=[1, 1, 1], dilation=[1, 1, 1])\n      (norm1): MinkowskiBatchNorm(256, eps=1e-05, momentum=0.1, affine=True, track_running_stats=True)\n      (conv2): MinkowskiConvolution(in=256, out=256, kernel_size=[3, 3, 3], stride=[1, 1, 1], dilation=[1, 1, 1])\n      (norm2): MinkowskiBatchNorm(256, eps=1e-05, momentum=0.1, affine=True, track_running_stats=True)\n      (relu): MinkowskiReLU()\n    )\n    (4): BasicBlock(\n      (conv1): MinkowskiConvolution(in=256, out=256, kernel_size=[3, 3, 3], stride=[1, 1, 1], dilation=[1, 1, 1])\n      (norm1): MinkowskiBatchNorm(256, eps=1e-05, momentum=0.1, affine=True, track_running_stats=True)\n      (conv2): MinkowskiConvolution(in=256, out=256, kernel_size=[3, 3, 3], stride=[1, 1, 1], dilation=[1, 1, 1])\n      (norm2): MinkowskiBatchNorm(256, eps=1e-05, momentum=0.1, affine=True, track_running_stats=True)\n      (relu): MinkowskiReLU()\n    )\n    (5): BasicBlock(\n      (conv1): MinkowskiConvolution(in=256, out=256, kernel_size=[3, 3, 3], stride=[1, 1, 1], dilation=[1, 1, 1])\n      (norm1): MinkowskiBatchNorm(256, eps=1e-05, momentum=0.1, affine=True, track_running_stats=True)\n      (conv2): MinkowskiConvolution(in=256, out=256, kernel_size=[3, 3, 3], stride=[1, 1, 1], dilation=[1, 1, 1])\n      (norm2): MinkowskiBatchNorm(256, eps=1e-05, momentum=0.1, affine=True, track_running_stats=True)\n      (relu): MinkowskiReLU()\n    )\n  )\n  (convtr4p16s2): MinkowskiConvolutionTranspose(in=256, out=256, kernel_size=[2, 2, 2], stride=[2, 2, 2], dilation=[1, 1, 1])\n  (bntr4): MinkowskiBatchNorm(256, eps=1e-05, momentum=0.1, affine=True, track_running_stats=True)\n  (block5): Sequential(\n    (0): BasicBlock(\n      (conv1): MinkowskiConvolution(in=384, out=256, kernel_size=[3, 3, 3], stride=[1, 1, 1], dilation=[1, 1, 1])\n      (norm1): MinkowskiBatchNorm(256, eps=1e-05, momentum=0.1, affine=True, track_running_stats=True)\n      (conv2): MinkowskiConvolution(in=256, out=256, kernel_size=[3, 3, 3], stride=[1, 1, 1], dilation=[1, 1, 1])\n      (norm2): MinkowskiBatchNorm(256, eps=1e-05, momentum=0.1, affine=True, track_running_stats=True)\n      (relu): MinkowskiReLU()\n      (downsample): Sequential(\n        (0): MinkowskiConvolution(in=384, out=256, kernel_size=[1, 1, 1], stride=[1, 1, 1], dilation=[1, 1, 1])\n        (1): MinkowskiBatchNorm(256, eps=1e-05, momentum=0.1, affine=True, track_running_stats=True)\n      )\n    )\n    (1): BasicBlock(\n      (conv1): MinkowskiConvolution(in=256, out=256, kernel_size=[3, 3, 3], stride=[1, 1, 1], dilation=[1, 1, 1])\n      (norm1): MinkowskiBatchNorm(256, eps=1e-05, momentum=0.1, affine=True, track_running_stats=True)\n      (conv2): MinkowskiConvolution(in=256, out=256, kernel_size=[3, 3, 3], stride=[1, 1, 1], dilation=[1, 1, 1])\n      (norm2): MinkowskiBatchNorm(256, eps=1e-05, momentum=0.1, affine=True, track_running_stats=True)\n      (relu): MinkowskiReLU()\n    )\n  )\n  (convtr5p8s2): MinkowskiConvolutionTranspose(in=256, out=128, kernel_size=[2, 2, 2], stride=[2, 2, 2], dilation=[1, 1, 1])\n  (bntr5): MinkowskiBatchNorm(128, eps=1e-05, momentum=0.1, affine=True, track_running_stats=True)\n  (block6): Sequential(\n    (0): BasicBlock(\n      (conv1): MinkowskiConvolution(in=192, out=128, kernel_size=[3, 3, 3], stride=[1, 1, 1], dilation=[1, 1, 1])\n      (norm1): MinkowskiBatchNorm(128, eps=1e-05, momentum=0.1, affine=True, track_running_stats=True)\n      (conv2): MinkowskiConvolution(in=128, out=128, kernel_size=[3, 3, 3], stride=[1, 1, 1], dilation=[1, 1, 1])\n      (norm2): MinkowskiBatchNorm(128, eps=1e-05, momentum=0.1, affine=True, track_running_stats=True)\n      (relu): MinkowskiReLU()\n      (downsample): Sequential(\n        (0): MinkowskiConvolution(in=192, out=128, kernel_size=[1, 1, 1], stride=[1, 1, 1], dilation=[1, 1, 1])\n        (1): MinkowskiBatchNorm(128, eps=1e-05, momentum=0.1, affine=True, track_running_stats=True)\n      )\n    )\n    (1): BasicBlock(\n      (conv1): MinkowskiConvolution(in=128, out=128, kernel_size=[3, 3, 3], stride=[1, 1, 1], dilation=[1, 1, 1])\n      (norm1): MinkowskiBatchNorm(128, eps=1e-05, momentum=0.1, affine=True, track_running_stats=True)\n      (conv2): MinkowskiConvolution(in=128, out=128, kernel_size=[3, 3, 3], stride=[1, 1, 1], dilation=[1, 1, 1])\n      (norm2): MinkowskiBatchNorm(128, eps=1e-05, momentum=0.1, affine=True, track_running_stats=True)\n      (relu): MinkowskiReLU()\n    )\n  )\n  (convtr6p4s2): MinkowskiConvolutionTranspose(in=128, out=96, kernel_size=[2, 2, 2], stride=[2, 2, 2], dilation=[1, 1, 1])\n  (bntr6): MinkowskiBatchNorm(96, eps=1e-05, momentum=0.1, affine=True, track_running_stats=True)\n  (block7): Sequential(\n    (0): BasicBlock(\n      (conv1): MinkowskiConvolution(in=128, out=96, kernel_size=[3, 3, 3], stride=[1, 1, 1], dilation=[1, 1, 1])\n      (norm1): MinkowskiBatchNorm(96, eps=1e-05, momentum=0.1, affine=True, track_running_stats=True)\n      (conv2): MinkowskiConvolution(in=96, out=96, kernel_size=[3, 3, 3], stride=[1, 1, 1], dilation=[1, 1, 1])\n      (norm2): MinkowskiBatchNorm(96, eps=1e-05, momentum=0.1, affine=True, track_running_stats=True)\n      (relu): MinkowskiReLU()\n      (downsample): Sequential(\n        (0): MinkowskiConvolution(in=128, out=96, kernel_size=[1, 1, 1], stride=[1, 1, 1], dilation=[1, 1, 1])\n        (1): MinkowskiBatchNorm(96, eps=1e-05, momentum=0.1, affine=True, track_running_stats=True)\n      )\n    )\n    (1): BasicBlock(\n      (conv1): MinkowskiConvolution(in=96, out=96, kernel_size=[3, 3, 3], stride=[1, 1, 1], dilation=[1, 1, 1])\n      (norm1): MinkowskiBatchNorm(96, eps=1e-05, momentum=0.1, affine=True, track_running_stats=True)\n      (conv2): MinkowskiConvolution(in=96, out=96, kernel_size=[3, 3, 3], stride=[1, 1, 1], dilation=[1, 1, 1])\n      (norm2): MinkowskiBatchNorm(96, eps=1e-05, momentum=0.1, affine=True, track_running_stats=True)\n      (relu): MinkowskiReLU()\n    )\n  )\n  (convtr7p2s2): MinkowskiConvolutionTranspose(in=96, out=96, kernel_size=[2, 2, 2], stride=[2, 2, 2], dilation=[1, 1, 1])\n  (bntr7): MinkowskiBatchNorm(96, eps=1e-05, momentum=0.1, affine=True, track_running_stats=True)\n  (block8): Sequential(\n    (0): BasicBlock(\n      (conv1): MinkowskiConvolution(in=128, out=96, kernel_size=[3, 3, 3], stride=[1, 1, 1], dilation=[1, 1, 1])\n      (norm1): MinkowskiBatchNorm(96, eps=1e-05, momentum=0.1, affine=True, track_running_stats=True)\n      (conv2): MinkowskiConvolution(in=96, out=96, kernel_size=[3, 3, 3], stride=[1, 1, 1], dilation=[1, 1, 1])\n      (norm2): MinkowskiBatchNorm(96, eps=1e-05, momentum=0.1, affine=True, track_running_stats=True)\n      (relu): MinkowskiReLU()\n      (downsample): Sequential(\n        (0): MinkowskiConvolution(in=128, out=96, kernel_size=[1, 1, 1], stride=[1, 1, 1], dilation=[1, 1, 1])\n        (1): MinkowskiBatchNorm(96, eps=1e-05, momentum=0.1, affine=True, track_running_stats=True)\n      )\n    )\n    (1): BasicBlock(\n      (conv1): MinkowskiConvolution(in=96, out=96, kernel_size=[3, 3, 3], stride=[1, 1, 1], dilation=[1, 1, 1])\n      (norm1): MinkowskiBatchNorm(96, eps=1e-05, momentum=0.1, affine=True, track_running_stats=True)\n      (conv2): MinkowskiConvolution(in=96, out=96, kernel_size=[3, 3, 3], stride=[1, 1, 1], dilation=[1, 1, 1])\n      (norm2): MinkowskiBatchNorm(96, eps=1e-05, momentum=0.1, affine=True, track_running_stats=True)\n      (relu): MinkowskiReLU()\n    )\n  )\n  (final): MinkowskiConvolution(in=96, out=20, kernel_size=[1, 1, 1], stride=[1, 1, 1], dilation=[1, 1, 1])\n  (relu): MinkowskiReLU()\n)"
     },
     "execution_count": 42,
     "metadata": {},
     "output_type": "execute_result"
    }
   ],
   "source": [
    "# Define a model and load the weights\n",
    "model = MinkUNet34C(3, 20).to(device)\n",
    "model_dict = torch.load(config.weights)\n",
    "model.load_state_dict(model_dict)\n",
    "model.eval()"
   ],
   "metadata": {
    "collapsed": false,
    "ExecuteTime": {
     "end_time": "2024-03-02T14:24:37.135639823Z",
     "start_time": "2024-03-02T14:24:34.997365620Z"
    }
   },
   "id": "941f4f25dcddf195",
   "execution_count": 42
  },
  {
   "cell_type": "code",
   "outputs": [
    {
     "name": "stdout",
     "output_type": "stream",
     "text": [
      "original coordinates shape: (227742, 3)\n",
      "original features shape: (227742, 3)\n"
     ]
    }
   ],
   "source": [
    "# load the data (without a dataloader and batch)\n",
    "coords, colors, pcd = load_file(config.file_name)\n",
    "print(\"original coordinates shape: \" + str(coords.shape))\n",
    "print(\"original features shape: \" + str(colors.shape))"
   ],
   "metadata": {
    "collapsed": false,
    "ExecuteTime": {
     "end_time": "2024-03-02T14:25:47.461701578Z",
     "start_time": "2024-03-02T14:25:47.437367917Z"
    }
   },
   "id": "9eeb52a47d280546",
   "execution_count": 48
  },
  {
   "cell_type": "code",
   "outputs": [
    {
     "name": "stdout",
     "output_type": "stream",
     "text": [
      "quantized coordinates shape: torch.Size([161890, 3])\n",
      "quantized features shape: (161890, 3)\n"
     ]
    }
   ],
   "source": [
    "# quantization method 1: ME.utils.sparse_quantize\n",
    "voxel_size = 0.02\n",
    "quant_coords, quant_feats = ME.utils.sparse_quantize(coordinates=coords, features=colors, quantization_size=voxel_size)\n",
    "print(\"quantized coordinates shape: \" + str(quant_coords.shape))\n",
    "print(\"quantized features shape: \" + str(quant_feats.shape))"
   ],
   "metadata": {
    "collapsed": false,
    "ExecuteTime": {
     "end_time": "2024-03-02T14:28:23.288568738Z",
     "start_time": "2024-03-02T14:28:23.269624013Z"
    }
   },
   "id": "190936c7b280876f",
   "execution_count": 51
  },
  {
   "cell_type": "code",
   "outputs": [
    {
     "name": "stdout",
     "output_type": "stream",
     "text": [
      "quantized coordinates shape: (161890, 3)\n",
      "quantized features shape: (161890, 3)\n"
     ]
    }
   ],
   "source": [
    "# quantization method 2:\n",
    "quant_coords_2 = coords / voxel_size\n",
    "mapping = ME.utils.sparse_quantize(coordinates=quant_coords_2, return_index=True)\n",
    "quant_coords_2 = quant_coords_2[mapping[1]]\n",
    "quant_feats_2 = colors[mapping[1]]\n",
    "print(\"quantized coordinates shape: \" + str(quant_coords_2.shape))\n",
    "print(\"quantized features shape: \" + str(quant_feats_2.shape))"
   ],
   "metadata": {
    "collapsed": false,
    "ExecuteTime": {
     "end_time": "2024-03-02T15:17:42.983876309Z",
     "start_time": "2024-03-02T15:17:42.971287511Z"
    }
   },
   "id": "67d1cb7002e4aebe",
   "execution_count": 56
  }
 ],
 "metadata": {
  "kernelspec": {
   "display_name": "Python 3",
   "language": "python",
   "name": "python3"
  },
  "language_info": {
   "codemirror_mode": {
    "name": "ipython",
    "version": 2
   },
   "file_extension": ".py",
   "mimetype": "text/x-python",
   "name": "python",
   "nbconvert_exporter": "python",
   "pygments_lexer": "ipython2",
   "version": "2.7.6"
  }
 },
 "nbformat": 4,
 "nbformat_minor": 5
}
